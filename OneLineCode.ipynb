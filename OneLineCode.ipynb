{
 "cells": [
  {
   "cell_type": "markdown",
   "metadata": {},
   "source": [
    "# Python一行代码"
   ]
  },
  {
   "cell_type": "markdown",
   "metadata": {},
   "source": [
    "## 输出型"
   ]
  },
  {
   "cell_type": "markdown",
   "metadata": {},
   "source": [
    "### 格式化输出乘法口诀表"
   ]
  },
  {
   "cell_type": "code",
   "execution_count": 2,
   "metadata": {
    "collapsed": false
   },
   "outputs": [
    {
     "name": "stdout",
     "output_type": "stream",
     "text": [
      " 1 * 1 =  1\n",
      " 1 * 2 =  2  2 * 2 =  4\n",
      " 1 * 3 =  3  2 * 3 =  6  3 * 3 =  9\n",
      " 1 * 4 =  4  2 * 4 =  8  3 * 4 = 12  4 * 4 = 16\n",
      " 1 * 5 =  5  2 * 5 = 10  3 * 5 = 15  4 * 5 = 20  5 * 5 = 25\n",
      " 1 * 6 =  6  2 * 6 = 12  3 * 6 = 18  4 * 6 = 24  5 * 6 = 30  6 * 6 = 36\n",
      " 1 * 7 =  7  2 * 7 = 14  3 * 7 = 21  4 * 7 = 28  5 * 7 = 35  6 * 7 = 42  7 * 7 = 49\n",
      " 1 * 8 =  8  2 * 8 = 16  3 * 8 = 24  4 * 8 = 32  5 * 8 = 40  6 * 8 = 48  7 * 8 = 56  8 * 8 = 64\n",
      " 1 * 9 =  9  2 * 9 = 18  3 * 9 = 27  4 * 9 = 36  5 * 9 = 45  6 * 9 = 54  7 * 9 = 63  8 * 9 = 72  9 * 9 = 81\n"
     ]
    }
   ],
   "source": [
    "print('\\n'.join([' '.join([\"{:2d} *{:2d} = {:2d}\".format(j, i, i*j) for j in range(1, i+1)]) for i in range(1, 10)]))"
   ]
  },
  {
   "cell_type": "markdown",
   "metadata": {},
   "source": [
    "### 打印迷宫"
   ]
  },
  {
   "cell_type": "code",
   "execution_count": 5,
   "metadata": {
    "collapsed": false
   },
   "outputs": [
    {
     "name": "stdout",
     "output_type": "stream",
     "text": [
      "╲╲╲╱╱╱╱╱╲╲╲╱╲╲╲╲╱╲╱╲╱╱╲╲╲╱╲╱╲╱╱╱╱╲╲╱╱╲╲╱╱╱╱╱╱╱╲╱╲╱╲╲╲╱╲╲╲╱╲╲╲╲╱╲╱╱╱╱╱╲╱╲╲╲╲╲╲╱╱╱╱╱╱╱╲╲╱╱╲╱╱╱╲╱╲╲╱╲╱╱╲╲╲╱╲╲╲╱╱╲╱╲╲╱╲╲╲╲╲╱╱╱╱╱╱╲╱╲╲╲╲╲╱╱╱╲╲╱╲╲╲╱╲╱╱╲╲╲╱╲╲╱╲╲╲╲╱╲╱╱╱╱╱╱╲╲╱╲╱╱╱╲╱╲╲╲╱╱╲╲╱╲╱╱╲╱╲╱╱╱╱╲╲╲╲╲╲╱╱╱╲╱╲╲╲╱╱╱╱╱╲╲╲╲╱╲╱╲╲╱╱╲╱╱╲╱╱╲╲╱╲╱╱╲╱╲╱╲╲╲╱╲╱╱╱╲╲╱╱╲╱╲╲╲╱╱╱╱╲╱╱╲╱╱╱╱╱╲╲╲╱╲╱╲╲╲╲╱╲╱╲╲╲╱╲╱╱╱╱╱╲╱╱╱╲╱╱╲╱╲╱╲╱╱╱╲╲╲╲╲╲╱╱╱╱╲╲╱╱╲╲╲╲╱╱╱╲╱╲╱╲╱╱╱╱╲╱╱╱╱╲╲╱╲╲╲╲╱╲╱╱╲╲╱╱╱╲╱╲╲╲╱╲╱╲╱╱╱╲╲╱╲╲╲╲╱╱╲╱╱╱╱╲╲╲╱╱╱╲╲╲╲╱╲╱╱╱╲╱╱╲╲╲╲╱╲╱╱╲╱╲╱╲╲╲╲╱╲╲╲╲╱╱╲╲╱╱╱╲╱╲╲╲╱╱╱╱╱╲╲╲╲╱╲╲╲╱╲╲╱╱╱╱╱╱╲╱╱╲╱╱╲╲╱╱╲╲╱╲╱╱╱╱╲╲╲╱╱╲╲╲╱╱╱╲╱╲╲╲╲╱╲╱╲╱╱╲╲╱╲╲╲╱╱╲╱╱╱╱╱╱╱╱╲╲╱╱╲╲╲╱╱╱╱╱╱╲╲╲╱╲╱╲╲╱╲╲╲╱╲╱╱╲╲╲╱╱╲╱╱╱╲╱╲╲╱╲╲╲╲╲╱╲╲╱╱╱╱╱╱╱╲╲╱╲╲╲╱╲╱╲╲╲╱╲╱╱╲╲╱╲╲╱╲╱╲╱╲╲╱╱╱╲╱╱╱╱╱╲╱╱╲╲╲╱╱╲╲╲╲╱╱╲╱╲╲╲╲╱╲╲╱╱╱╱╱╱╲╲╲╱╲╲╲╱╱╱╲╱╱╱╲╱╲╱╱╲╱╲╱╲╲╱╲╲╱╲╱╲╱╲╱╱╲╱╲╲╲╲╲╲╲╲╲╲╱╱╲╱╲╲╲╲╲╱╲╱╱╱╲╱╱╲╲╱╱╲╱╲╱╱╱╱╱╱╱╱╱╱╱╲╲╲╲╲╱╱╱╲╱╱╲╱╱╲╱╱╲╱╲╱╱╱╱╲╲╱╲╲╱╱╲╱╲╲╱╱╱╲╱╲╲╲╲╱╱╲╲╲╱╲╲╱╱╱╱╱╲╲╱╱╱╱╲╱╲╲╱╱╱╱╱╲╱╲╱╲╲╱╱╲╱╲╱╱╲╱╱╲╲╲╱╱╱╱╲╱╱╲╱╱╱╲╲╱╱╲╲╱╱╱╲╲╱╱╱╲╲╱╲╱╲╲╱╱╲╲╱╱╲╱╲╱╱╱╲╱╲╱╱╲╱╱╱╱╱╲╲╲╱╱╱╲╲╱╱╲╱╱╱╱╱╱╱╲╱╱╲╱╱╲╲╱╱╱╱╲╲╲╲╲╱╲╱╲╱╱╲╱╲╱╲╲╱╱╲╱╲╲╲╲╲╱╱╱╲╲╲╱╲╱╲╱╲╱╲╱╲╲╱╲╱╱╲╱╲╱╲╲╲╱╱╱╱╲╱╲╱╱╱╲╲╱╲╲╲╱╱╲╱╲╱╱╱╱╲╲╱╱╱╱╲╱╲╲╲╲╲╲╲╲╲╱╱╲╱╲╲╲╱╱╱╱╱╲╲╱╲╲╲╱╱╱╱╱╲╲╱╲╱╱╲╱╱╱╲╲╱╲╱╲╱╱╲╱╲╱╲╱╲╱╲╱╲╱╱╲╲╱╲╲╱╲╱╱╱╱╱╱╲╱╲╱╲╱╱╱╲╱╱╱╲╱╲╱╱╱╲╱╱╱╲╱╲╱╲╲╲╱╱╲╲╱╲╲╱╲╲╱╱╲╱╲╱╱╲╱╱╲╲╲╱╱╱╲╱╱╲╲╱╱╲╲╱╲╲╱╱╲╱╱╱╱╲╱╱╲╲╱╱╱╱╲╱╱╱╲╲╲╱╱╲╲╱╲╱╱╲╱╲╱╱╱╱╲╱╱╲╲╲╲╲╲╲╱╲╲╱╱╲╱╱╲╲╱╲╱╱╲╱╱╱╱╱╲╱╲╱╲╱\n"
     ]
    }
   ],
   "source": [
    "print(''.join(__import__('random').choice('\\u2571\\u2572') for i in range(50*24)))"
   ]
  },
  {
   "cell_type": "markdown",
   "metadata": {},
   "source": [
    "### 打印爱心图案"
   ]
  },
  {
   "cell_type": "code",
   "execution_count": 19,
   "metadata": {
    "collapsed": false
   },
   "outputs": [
    {
     "name": "stdout",
     "output_type": "stream",
     "text": [
      "                                                            \n",
      "                                                            \n",
      "                                                            \n",
      "                velovelov           velovelov               \n",
      "            elovelovelovelove   elovelovelovelove           \n",
      "          velovelovelovelovelovelovelovelovelovelov         \n",
      "         velovelovelovelovelovelovelovelovelovelovel        \n",
      "        velovelovelovelovelovelovelovelovelovelovelov       \n",
      "        elovelovelovelovelovelovelovelovelovelovelove       \n",
      "        lovelovelovelovelovelovelovelovelovelovelovel       \n",
      "        ovelovelovelovelovelovelovelovelovelovelovelo       \n",
      "        velovelovelovelovelovelovelovelovelovelovelov       \n",
      "        elovelovelovelovelovelovelovelovelovelovelove       \n",
      "         ovelovelovelovelovelovelovelovelovelovelove        \n",
      "          elovelovelovelovelovelovelovelovelovelove         \n",
      "          lovelovelovelovelovelovelovelovelovelovel         \n",
      "            elovelovelovelovelovelovelovelovelove           \n",
      "             ovelovelovelovelovelovelovelovelove            \n",
      "              elovelovelovelovelovelovelovelove             \n",
      "                velovelovelovelovelovelovelov               \n",
      "                  ovelovelovelovelovelovelo                 \n",
      "                    lovelovelovelovelovel                   \n",
      "                       lovelovelovelov                      \n",
      "                          lovelovel                         \n",
      "                             lov                            \n",
      "                              v                             \n",
      "                                                            \n",
      "                                                            \n",
      "                                                            \n",
      "                                                            \n"
     ]
    }
   ],
   "source": [
    "print('\\n'.join([''.join([('love'[(x-y) % len('love')] if ((x*0.05)**2+(y*0.1)**2-1)**3-(x*0.05)**2*(y*0.1)**3 <=0 else ' ')for x in range(-30, 30)]) for y in range(15, -15, -1)]))"
   ]
  },
  {
   "cell_type": "markdown",
   "metadata": {},
   "source": [
    "## 服务型"
   ]
  },
  {
   "cell_type": "markdown",
   "metadata": {},
   "source": [
    "### 开启Web服务"
   ]
  },
  {
   "cell_type": "code",
   "execution_count": 21,
   "metadata": {
    "collapsed": false
   },
   "outputs": [
    {
     "name": "stdout",
     "output_type": "stream",
     "text": [
      "Serving HTTP on 0.0.0.0 port 8088 ...\n",
      "^C\n",
      "\n",
      "Keyboard interrupt received, exiting.\n"
     ]
    }
   ],
   "source": [
    "!python -m http.server 8088 "
   ]
  },
  {
   "cell_type": "markdown",
   "metadata": {},
   "source": [
    "## 运算型"
   ]
  },
  {
   "cell_type": "markdown",
   "metadata": {},
   "source": [
    "### 变量交换"
   ]
  },
  {
   "cell_type": "code",
   "execution_count": null,
   "metadata": {
    "collapsed": false
   },
   "outputs": [],
   "source": [
    "a, b = b, a"
   ]
  },
  {
   "cell_type": "markdown",
   "metadata": {},
   "source": [
    "### 多维数组Flatten\n"
   ]
  },
  {
   "cell_type": "code",
   "execution_count": 26,
   "metadata": {
    "collapsed": false
   },
   "outputs": [
    {
     "name": "stdout",
     "output_type": "stream",
     "text": [
      "[[1, 2, 3], [4, 5, 6]]\n",
      "[1, 2, 3, 4, 5, 6]\n"
     ]
    }
   ],
   "source": [
    "flatten = lambda x : [y for l in x for y in flatten(l)] if isinstance(x, list) else [x]\n",
    "array = [[1, 2, 3], [4, 5, 6]]\n",
    "print(array)\n",
    "print(flatten(array))"
   ]
  },
  {
   "cell_type": "code",
   "execution_count": null,
   "metadata": {
    "collapsed": false
   },
   "outputs": [],
   "source": []
  }
 ],
 "metadata": {
  "kernelspec": {
   "display_name": "PaddlePaddle 1.5.0 (Python 3.5)",
   "language": "python",
   "name": "py35-paddle1.2.0"
  },
  "language_info": {
   "codemirror_mode": {
    "name": "ipython",
    "version": 3
   },
   "file_extension": ".py",
   "mimetype": "text/x-python",
   "name": "python",
   "nbconvert_exporter": "python",
   "pygments_lexer": "ipython3",
   "version": "3.5.5"
  }
 },
 "nbformat": 4,
 "nbformat_minor": 1
}
